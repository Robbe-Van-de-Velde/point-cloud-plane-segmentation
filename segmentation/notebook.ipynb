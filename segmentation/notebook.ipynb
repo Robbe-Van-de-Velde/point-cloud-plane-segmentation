{
 "cells": [
  {
   "attachments": {},
   "cell_type": "markdown",
   "metadata": {},
   "source": [
    "# Point cloud segmentation"
   ]
  },
  {
   "attachments": {},
   "cell_type": "markdown",
   "metadata": {},
   "source": [
    "## Imports"
   ]
  },
  {
   "cell_type": "code",
   "execution_count": 38,
   "metadata": {},
   "outputs": [],
   "source": [
    "import open3d as o3d\n",
    "import sys\n",
    "import numpy as np\n",
    "from sklearn.linear_model import RANSACRegressor\n",
    "import random\n",
    "from sklearn.decomposition import PCA\n",
    "import matplotlib.pyplot as plt"
   ]
  },
  {
   "attachments": {},
   "cell_type": "markdown",
   "metadata": {},
   "source": [
    "## Loading in the data"
   ]
  },
  {
   "cell_type": "code",
   "execution_count": 5,
   "metadata": {},
   "outputs": [],
   "source": [
    "# Load in point cloud\n",
    "pcd = o3d.io.read_point_cloud(\"../data/cube1.ply\")\n",
    "pcd.paint_uniform_color([0.9, 0.9, 0.9])\n",
    "points = np.asarray(pcd.points)"
   ]
  },
  {
   "attachments": {},
   "cell_type": "markdown",
   "metadata": {},
   "source": [
    "## RANSAC\n",
    "### SciKit Learn"
   ]
  },
  {
   "cell_type": "code",
   "execution_count": 6,
   "metadata": {},
   "outputs": [],
   "source": [
    "# Fit a plane to the point cloud\n",
    "ransac = RANSACRegressor(min_samples=3, residual_threshold=0.01, max_trials=1000)\n",
    "ransac.fit(points[:, :2], points[:, 2])\n",
    "\n",
    "# Get the inlier points\n",
    "inlier_mask = ransac.inlier_mask_\n",
    "inlier_points = points[inlier_mask, :]\n",
    "\n",
    "# Get the outlier points\n",
    "outlier_mask = np.logical_not(ransac.inlier_mask_)\n",
    "outlier_points = points[outlier_mask, :]\n",
    "\n",
    "# Get the plane parameters\n",
    "plane = ransac.estimator_.coef_\n",
    "plane = np.append(plane, ransac.estimator_.intercept_)"
   ]
  },
  {
   "cell_type": "code",
   "execution_count": 7,
   "metadata": {},
   "outputs": [],
   "source": [
    "# Create a new point cloud with only the inlier points\n",
    "inlier_pcd = o3d.geometry.PointCloud()\n",
    "inlier_pcd.points = o3d.utility.Vector3dVector(inlier_points)\n",
    "inlier_pcd.paint_uniform_color([0.9, 0, 0])\n",
    "\n",
    "# Create a new point cloud with only the outlier points\n",
    "outlier_pcd = o3d.geometry.PointCloud()\n",
    "outlier_pcd.points = o3d.utility.Vector3dVector(outlier_points)\n",
    "outlier_pcd.paint_uniform_color([0, 0.9, 0])\n",
    "\n",
    "# Visualize the point cloud\n",
    "o3d.visualization.draw_geometries([outlier_pcd, inlier_pcd])"
   ]
  },
  {
   "attachments": {},
   "cell_type": "markdown",
   "metadata": {},
   "source": [
    "### Open3D"
   ]
  },
  {
   "cell_type": "code",
   "execution_count": 8,
   "metadata": {},
   "outputs": [],
   "source": [
    "# Use RANSAC to segment the plane\n",
    "plane_model, inliers = pcd.segment_plane(distance_threshold=0.01, ransac_n=3, num_iterations=1000)\n",
    "\n",
    "# Extract the inlier points\n",
    "inlier_cloud = pcd.select_by_index(inliers)\n",
    "inlier_cloud.paint_uniform_color([1.0, 0, 0])\n",
    "\n",
    "# Extract the outlier points\n",
    "outlier_cloud = pcd.select_by_index(inliers, invert=True)\n",
    "outlier_cloud.paint_uniform_color([0, 0, 1])\n",
    "\n",
    "# Visualize the point cloud\n",
    "o3d.visualization.draw_geometries([outlier_cloud, inlier_cloud])"
   ]
  },
  {
   "attachments": {},
   "cell_type": "markdown",
   "metadata": {},
   "source": [
    "We can see that the open3D implementation, instantly detects a plane whereas this is not the case with sci-kit learn. However tweaking the parameters of the sci-kit learn implementation can lead to a similar result. Using the sci-kit learn package may lead to better results in the future as it is more flexible and can be used for other algorithms."
   ]
  },
  {
   "attachments": {},
   "cell_type": "markdown",
   "metadata": {},
   "source": [
    "## Finding all planes\n",
    "\n",
    "Now we are going to loop the algorithm over the entire point cloud and find all planes. We will try both the sci-kit learn and open3D implementations."
   ]
  },
  {
   "attachments": {},
   "cell_type": "markdown",
   "metadata": {},
   "source": [
    "### SciKit Learn"
   ]
  },
  {
   "cell_type": "code",
   "execution_count": 16,
   "metadata": {},
   "outputs": [],
   "source": [
    "# Load in point cloud\n",
    "pcd = o3d.io.read_point_cloud(\"../data/cube1.ply\")\n",
    "pcd.estimate_normals(search_param=o3d.geometry.KDTreeSearchParamHybrid(radius=0.1, max_nn=30))\n",
    "\n",
    "planes = []\n",
    "\n",
    "# Fit a plane to the point cloud\n",
    "ransac = RANSACRegressor(min_samples=3, residual_threshold=0.01, max_trials=1000)\n",
    "ransac.fit(points[:, :2], points[:, 2])\n",
    "\n",
    "# Get the inlier points\n",
    "inlier_mask = ransac.inlier_mask_\n",
    "inlier_points = points[inlier_mask, :]\n",
    "\n",
    "# Get the outlier points\n",
    "outlier_mask = np.logical_not(ransac.inlier_mask_)\n",
    "outlier_points = points[outlier_mask, :]\n",
    "\n",
    "# Create a new point cloud with only the inlier points\n",
    "inlier_pcd = o3d.geometry.PointCloud()\n",
    "inlier_pcd.points = o3d.utility.Vector3dVector(inlier_points)\n",
    "inlier_pcd.paint_uniform_color([0.9, 0, 0])\n",
    "\n",
    "# Add the plane to the list of planes\n",
    "planes.append(inlier_pcd)\n",
    "\n",
    "# Repeat until there are no more points\n",
    "# while len(outlier_points) > 0:\n",
    "# Fit a plane to the point cloud\n",
    "ransac = RANSACRegressor(min_samples=3, residual_threshold=0.01, max_trials=1000)\n",
    "ransac.fit(outlier_points[:, :2], outlier_points[:, 2])\n",
    "\n",
    "# Get the inlier points\n",
    "inlier_mask = ransac.inlier_mask_\n",
    "inlier_points = outlier_points[inlier_mask, :]\n",
    "\n",
    "# Get the outlier points\n",
    "outlier_mask = np.logical_not(ransac.inlier_mask_)\n",
    "outlier_points = outlier_points[outlier_mask, :]\n",
    "\n",
    "# Create a new point cloud with only the inlier points\n",
    "inlier_pcd = o3d.geometry.PointCloud()\n",
    "inlier_pcd.points = o3d.utility.Vector3dVector(inlier_points)\n",
    "inlier_pcd.paint_uniform_color([0, 0.9, 0])\n",
    "\n",
    "# Add the plane to the list of planes\n",
    "planes.append(inlier_pcd)\n",
    "\n",
    "ransac = RANSACRegressor(min_samples=3, residual_threshold=0.01, max_trials=1000)\n",
    "ransac.fit(outlier_points[:, :2], outlier_points[:, 2])\n",
    "\n",
    "# Get the inlier points\n",
    "inlier_mask = ransac.inlier_mask_\n",
    "inlier_points = outlier_points[inlier_mask, :]\n",
    "\n",
    "# Get the outlier points\n",
    "outlier_mask = np.logical_not(ransac.inlier_mask_)\n",
    "outlier_points = outlier_points[outlier_mask, :]\n",
    "\n",
    "# Create a new point cloud with only the inlier points\n",
    "inlier_pcd = o3d.geometry.PointCloud()\n",
    "inlier_pcd.points = o3d.utility.Vector3dVector(inlier_points)\n",
    "inlier_pcd.paint_uniform_color([0, 0, 0.9])\n",
    "\n",
    "# Create a new point cloud with only the outlier points\n",
    "outlier_pcd = o3d.geometry.PointCloud()\n",
    "outlier_pcd.points = o3d.utility.Vector3dVector(outlier_points)\n",
    "outlier_pcd.paint_uniform_color([0.9, 0.9, 0])\n",
    "\n",
    "# Add the plane to the list of planes\n",
    "planes.append(inlier_pcd)\n",
    "planes.append(outlier_pcd)\n",
    "\n",
    "# Visualize the point cloud\n",
    "o3d.visualization.draw_geometries(planes)"
   ]
  },
  {
   "cell_type": "code",
   "execution_count": 17,
   "metadata": {},
   "outputs": [],
   "source": [
    "from sklearn.linear_model import RANSACRegressor\n",
    "from sklearn.metrics import mean_squared_error\n",
    "from sklearn.cluster import DBSCAN\n",
    "import numpy as np\n",
    "import open3d as o3d\n",
    "\n",
    "def segment_planes(points, min_samples=3, residual_threshold=0.01, max_trials=1000, eps=0.05, min_samples_cluster=10):\n",
    "    planes = []\n",
    "    while points.shape[0] >= min_samples:\n",
    "        # Fit a plane to the point cloud\n",
    "        ransac = RANSACRegressor(min_samples=min_samples, residual_threshold=residual_threshold, max_trials=max_trials)\n",
    "        ransac.fit(points[:, :2], points[:, 2])\n",
    "\n",
    "        # Get the inlier points\n",
    "        inlier_mask = ransac.inlier_mask_\n",
    "        inlier_points = points[inlier_mask, :]\n",
    "\n",
    "        # Get the outlier points\n",
    "        outlier_mask = np.logical_not(inlier_mask)\n",
    "        outlier_points = points[outlier_mask, :]\n",
    "\n",
    "        # Perform DBSCAN clustering on inlier points\n",
    "        clustering = DBSCAN(eps=eps, min_samples=min_samples_cluster).fit(inlier_points[:, :2])\n",
    "\n",
    "        # Identify main plane cluster by finding largest cluster\n",
    "        labels = clustering.labels_\n",
    "        unique_labels, counts = np.unique(labels, return_counts=True)\n",
    "        main_label = unique_labels[np.argmax(counts)]\n",
    "\n",
    "        # Extract points in main plane cluster\n",
    "        main_cluster_points = inlier_points[labels == main_label]\n",
    "\n",
    "        # Convert points to Open3D point cloud\n",
    "        plane = o3d.geometry.PointCloud()\n",
    "        plane.points = o3d.utility.Vector3dVector(main_cluster_points)\n",
    "\n",
    "        # Add the plane to the list of planes\n",
    "        planes.append(plane)\n",
    "\n",
    "        # Update points to be the outlier points\n",
    "        points = outlier_points\n",
    "\n",
    "    return planes\n"
   ]
  },
  {
   "cell_type": "code",
   "execution_count": 20,
   "metadata": {},
   "outputs": [
    {
     "name": "stdout",
     "output_type": "stream",
     "text": [
      "Number of planes: 39\n"
     ]
    }
   ],
   "source": [
    "pcd = o3d.io.read_point_cloud(\"../data/cube1.ply\")\n",
    "\n",
    "# Estimate normals for the point cloud\n",
    "pcd.estimate_normals(search_param=o3d.geometry.KDTreeSearchParamHybrid(radius=0.1, max_nn=30))\n",
    "\n",
    "# Convert Open3D point cloud to NumPy array\n",
    "points = np.asarray(pcd.points)\n",
    "\n",
    "# Normalize the points\n",
    "points = points - points.mean(axis=0)\n",
    "\n",
    "# Segment the planes\n",
    "planes = segment_planes(points)\n",
    "\n",
    "# Paint the planes\n",
    "for i, plane in enumerate(planes):\n",
    "    plane.paint_uniform_color([i / len(planes), 0, 0])\n",
    "\n",
    "print(\"Number of planes: {}\".format(len(planes)))\n",
    "\n",
    "# Visualize the point cloud\n",
    "o3d.visualization.draw_geometries(planes)"
   ]
  },
  {
   "attachments": {},
   "cell_type": "markdown",
   "metadata": {},
   "source": [
    "The SKlearn method is really not good at finding the planes."
   ]
  },
  {
   "attachments": {},
   "cell_type": "markdown",
   "metadata": {},
   "source": [
    "### Open3D\n",
    "\n"
   ]
  },
  {
   "cell_type": "code",
   "execution_count": 21,
   "metadata": {},
   "outputs": [
    {
     "name": "stdout",
     "output_type": "stream",
     "text": [
      "6\n"
     ]
    }
   ],
   "source": [
    "# Load in point cloud\n",
    "pcd = o3d.io.read_point_cloud(\"../data/cube1.ply\")\n",
    "planes = []\n",
    "\n",
    "while len(pcd.points) > 0:\n",
    "    # Use RANSAC to segment the plane\n",
    "    plane_model, inliers = pcd.segment_plane(distance_threshold=0.01, ransac_n=3, num_iterations=1000)\n",
    "\n",
    "    # Extract the inlier points\n",
    "    inlier_cloud = pcd.select_by_index(inliers)\n",
    "    inlier_cloud.paint_uniform_color([random.random(), random.random(), random.random()])\n",
    "\n",
    "    # Extract the outlier points\n",
    "    pcd = pcd.select_by_index(inliers, invert=True)\n",
    "\n",
    "    # Add the plane to the list of planes\n",
    "    planes.append(inlier_cloud)\n",
    "\n",
    "print(len(planes))\n",
    "\n",
    "# Visualize the point cloud\n",
    "o3d.visualization.draw_geometries(planes)\n"
   ]
  },
  {
   "attachments": {},
   "cell_type": "markdown",
   "metadata": {},
   "source": [
    "The open3D implementation is much easier to use, after tinkering with the parameters of the sci-kit learn implementation I was still unable to get the same results, therefore I will be using the open3D implementation for the rest of the notebook."
   ]
  },
  {
   "attachments": {},
   "cell_type": "markdown",
   "metadata": {},
   "source": [
    "Let's try to use the open3D implementation to find all planes other point clouds."
   ]
  },
  {
   "cell_type": "code",
   "execution_count": 22,
   "metadata": {},
   "outputs": [
    {
     "name": "stdout",
     "output_type": "stream",
     "text": [
      "6\n",
      "[Open3D WARNING] GLFW Error: WGL: Failed to make context current: The requested transformation operation is not supported. \n",
      "[Open3D WARNING] GLFW Error: WGL: Failed to make context current: The requested transformation operation is not supported. \n"
     ]
    }
   ],
   "source": [
    "# Load in point cloud\n",
    "pcd = o3d.io.read_point_cloud(\"../data/cube4.ply\")\n",
    "planes = []\n",
    "\n",
    "while len(pcd.points) > 0:\n",
    "    # Use RANSAC to segment the plane\n",
    "    plane_model, inliers = pcd.segment_plane(distance_threshold=0.01, ransac_n=3, num_iterations=1000)\n",
    "\n",
    "    # Extract the inlier points\n",
    "    inlier_cloud = pcd.select_by_index(inliers)\n",
    "    inlier_cloud.paint_uniform_color([random.random(), random.random(), random.random()])\n",
    "\n",
    "    # Extract the outlier points\n",
    "    pcd = pcd.select_by_index(inliers, invert=True)\n",
    "\n",
    "    # Add the plane to the list of planes\n",
    "    planes.append(inlier_cloud)\n",
    "\n",
    "print(len(planes))\n",
    "\n",
    "# Visualize the point cloud\n",
    "o3d.visualization.draw_geometries(planes)"
   ]
  },
  {
   "cell_type": "code",
   "execution_count": 55,
   "metadata": {},
   "outputs": [
    {
     "name": "stdout",
     "output_type": "stream",
     "text": [
      "5\n"
     ]
    }
   ],
   "source": [
    "# Load in point cloud\n",
    "pcd = o3d.io.read_point_cloud(\"../data/pyramid1.ply\")\n",
    "planes = []\n",
    "\n",
    "while len(pcd.points) > 0:\n",
    "    # Use RANSAC to segment the plane\n",
    "    plane_model, inliers = pcd.segment_plane(distance_threshold=0.01, ransac_n=3, num_iterations=1000)\n",
    "\n",
    "    # Extract the inlier points\n",
    "    inlier_cloud = pcd.select_by_index(inliers)\n",
    "    inlier_cloud.paint_uniform_color([random.random(), random.random(), random.random()])\n",
    "\n",
    "    # Extract the outlier points\n",
    "    pcd = pcd.select_by_index(inliers, invert=True)\n",
    "\n",
    "    # Add the plane to the list of planes\n",
    "    planes.append(inlier_cloud)\n",
    "\n",
    "print(len(planes))\n",
    "\n",
    "# Visualize the point cloud\n",
    "o3d.visualization.draw_geometries(planes)\n"
   ]
  },
  {
   "cell_type": "code",
   "execution_count": 4,
   "metadata": {},
   "outputs": [
    {
     "name": "stdout",
     "output_type": "stream",
     "text": [
      "std::vector<Eigen::Vector3d> with 6000 elements.\n",
      "Use numpy.asarray() to access data.\n",
      "26\n"
     ]
    }
   ],
   "source": [
    "# Load in point cloud\n",
    "pcd = o3d.io.read_point_cloud(\"../data/noisy_cube2.ply\")\n",
    "planes = []\n",
    "\n",
    "print(pcd.points)\n",
    "\n",
    "# Preprocess the point cloud\n",
    "pcd.voxel_down_sample(voxel_size=0.01)\n",
    "pcd.remove_statistical_outlier(nb_neighbors=20, std_ratio=2.0)\n",
    "pcd.remove_radius_outlier(nb_points=16, radius=0.05)\n",
    "pcd.estimate_normals(search_param=o3d.geometry.KDTreeSearchParamHybrid(radius=0.1, max_nn=30))\n",
    "\n",
    "while len(pcd.points) >= 3:\n",
    "    # Use RANSAC to segment the plane\n",
    "    plane_model, inliers = pcd.segment_plane(distance_threshold=0.01, ransac_n=3, num_iterations=1000)\n",
    "\n",
    "    # Extract the inlier points\n",
    "    inlier_cloud = pcd.select_by_index(inliers)\n",
    "    inlier_cloud.paint_uniform_color([random.random(), random.random(), random.random()])\n",
    "\n",
    "    # Extract the outlier points\n",
    "    pcd = pcd.select_by_index(inliers, invert=True)\n",
    "\n",
    "    # Add the plane to the list of planes\n",
    "    planes.append(inlier_cloud)\n",
    "\n",
    "print(len(planes))\n",
    "\n",
    "# Visualize the point cloud\n",
    "o3d.visualization.draw_geometries(planes)\n"
   ]
  },
  {
   "cell_type": "code",
   "execution_count": 2,
   "metadata": {},
   "outputs": [
    {
     "name": "stdout",
     "output_type": "stream",
     "text": [
      "std::vector<Eigen::Vector3d> with 511026 elements.\n",
      "Use numpy.asarray() to access data.\n",
      "114\n",
      "[Open3D WARNING] GLFW Error: WGL: Failed to make context current: The requested transformation operation is not supported. \n",
      "[Open3D WARNING] GLFW Error: WGL: Failed to make context current: The requested transformation operation is not supported. \n"
     ]
    }
   ],
   "source": [
    "# Load in point cloud\n",
    "pcd = o3d.io.read_point_cloud(\"../data/TLS_kitchen.ply\")\n",
    "planes = []\n",
    "\n",
    "print(pcd.points)\n",
    "\n",
    "# Preprocess the point cloud\n",
    "pcd.voxel_down_sample(voxel_size=0.01)\n",
    "pcd.remove_statistical_outlier(nb_neighbors=20, std_ratio=2.0)\n",
    "pcd.remove_radius_outlier(nb_points=16, radius=0.05)\n",
    "pcd.estimate_normals()\n",
    "\n",
    "\n",
    "while len(pcd.points) >= 3:\n",
    "    # Use RANSAC to segment the plane\n",
    "    plane_model, inliers = pcd.segment_plane(distance_threshold=0.01, ransac_n=3, num_iterations=1000)\n",
    "\n",
    "    # Extract the inlier points\n",
    "    inlier_cloud = pcd.select_by_index(inliers)\n",
    "    inlier_cloud.paint_uniform_color([random.random(), random.random(), random.random()])\n",
    "\n",
    "    # Extract the outlier points\n",
    "    pcd = pcd.select_by_index(inliers, invert=True)\n",
    "\n",
    "    # Add the plane to the list of planes\n",
    "    planes.append(inlier_cloud)\n",
    "\n",
    "print(len(planes))\n",
    "\n",
    "# Visualize the point cloud\n",
    "o3d.visualization.draw_geometries(planes)\n"
   ]
  },
  {
   "attachments": {},
   "cell_type": "markdown",
   "metadata": {},
   "source": [
    "Even though there are a lot of planes that seem to be overlapping. All the selected planes do seem to be correct planes. Perhaps if we use a clustering algorithm to find the planes that are overlapping we can get a better result."
   ]
  },
  {
   "attachments": {},
   "cell_type": "markdown",
   "metadata": {},
   "source": [
    "## PCA"
   ]
  },
  {
   "attachments": {},
   "cell_type": "markdown",
   "metadata": {},
   "source": [
    "Now lets take a look how Principal Component Analysis (PCA) can be used to find the planes in the point cloud. We will use the sci-kit learn implementation of PCA."
   ]
  },
  {
   "cell_type": "code",
   "execution_count": 65,
   "metadata": {},
   "outputs": [
    {
     "data": {
      "image/png": "[encoded data removed]",
      "text/plain": [
       "<Figure size 640x480 with 1 Axes>"
      ]
     },
     "metadata": {},
     "output_type": "display_data"
    }
   ],
   "source": [
    "import open3d as o3d\n",
    "import numpy as np\n",
    "from sklearn.decomposition import PCA\n",
    "import random\n",
    "\n",
    "# Load the point cloud\n",
    "pcd = o3d.io.read_point_cloud(\"../data/cube1.ply\")\n",
    "\n",
    "# Convert point cloud to 2D numpy array\n",
    "points = np.asarray(pcd.points)\n",
    "\n",
    "# Initialize PCA object\n",
    "pca = PCA(n_components=3)\n",
    "\n",
    "# Fit the PCA model to the data\n",
    "pca.fit(points)\n",
    "\n",
    "# Transform the data using the PCA model\n",
    "transformed_data = pca.transform(points)\n",
    "\n",
    "# Get the components of the PCA model\n",
    "components = pca.components_\n",
    "\n",
    "import matplotlib.pyplot as plt\n",
    "from mpl_toolkits.mplot3d import Axes3D\n",
    "\n",
    "# Load data and perform PCA as described in previous answer\n",
    "\n",
    "# Create 3D scatter plot\n",
    "fig = plt.figure()\n",
    "ax = fig.add_subplot(111, projection='3d')\n",
    "ax.scatter(transformed_data[:, 0], transformed_data[:, 1], transformed_data[:, 2])\n",
    "\n",
    "# Plot principal components as vectors\n",
    "origin = np.mean(transformed_data, axis=0)\n",
    "for i, (comp, var) in enumerate(zip(pca.components_, pca.explained_variance_)):\n",
    "    end = origin + comp * np.sqrt(var)\n",
    "    ax.quiver(origin[0], origin[1], origin[2], end[0]-origin[0], end[1]-origin[1], end[2]-origin[2], color=f'C{i}', label=f'PC{i+1}')\n",
    "\n",
    "# Add labels and legend\n",
    "ax.set_xlabel('PC1')\n",
    "ax.set_ylabel('PC2')\n",
    "ax.set_zlabel('PC3')\n",
    "ax.legend()\n",
    "\n",
    "plt.show()\n"
   ]
  },
  {
   "attachments": {},
   "cell_type": "markdown",
   "metadata": {},
   "source": [
    "The principal component analysis does not seem to be able to find the planes in the point cloud."
   ]
  },
  {
   "attachments": {},
   "cell_type": "markdown",
   "metadata": {},
   "source": [
    "## Clustering"
   ]
  },
  {
   "attachments": {},
   "cell_type": "markdown",
   "metadata": {},
   "source": [
    "Since the PCA algorithm does not seem able to find planes (I can also not understand the algorithm), we will try to improve the results of the open3D implementation by using a clustering algorithm. We will use the DBSCAN algorithm to cluster the planes."
   ]
  },
  {
   "cell_type": "code",
   "execution_count": 90,
   "metadata": {},
   "outputs": [
    {
     "name": "stdout",
     "output_type": "stream",
     "text": [
      "[Open3D WARNING] GLFW Error: WGL: Failed to make context current: The requested transformation operation is not supported. \n",
      "Actual number of planes: 6\n",
      "Number of planes: 6\n",
      "Correct number of planes!\n"
     ]
    }
   ],
   "source": [
    "# Load the point cloud\n",
    "pcd = o3d.io.read_point_cloud(\"../data/cube4.ply\")\n",
    "\n",
    "actual_planes = 6\n",
    "\n",
    "# Get planes using RANSAC\n",
    "planes = []\n",
    "while len(pcd.points) >= 3: # Need at least 3 points to fit a plane\n",
    "    plane_model, inliers = pcd.segment_plane(distance_threshold=0.01, ransac_n=3, num_iterations=1000)\n",
    "    inlier_cloud = pcd.select_by_index(inliers)\n",
    "    inlier_cloud.paint_uniform_color([random.random(), random.random(), random.random()])\n",
    "    pcd = pcd.select_by_index(inliers, invert=True)\n",
    "    planes.append(inlier_cloud)\n",
    "\n",
    "# Add the remaining points to the list of planes\n",
    "if len(pcd.points) > 0:\n",
    "    planes.append(pcd)\n",
    "\n",
    "# Visualize the point cloud\n",
    "o3d.visualization.draw_geometries(planes)\n",
    "\n",
    "print('Actual number of planes: {}'.format(actual_planes))\n",
    "print(f'Number of planes: {len(planes)}')\n",
    "\n",
    "if len(planes) == actual_planes:\n",
    "    print('Correct number of planes!')"
   ]
  },
  {
   "attachments": {},
   "cell_type": "markdown",
   "metadata": {},
   "source": [
    "This is is of course perfect data, so lets start from here, if we cluster then our planes should remain the same."
   ]
  },
  {
   "cell_type": "code",
   "execution_count": 109,
   "metadata": {},
   "outputs": [
    {
     "name": "stdout",
     "output_type": "stream",
     "text": [
      "[-1 -1 -1 ... -1 -1 -1]\n",
      "1\n"
     ]
    }
   ],
   "source": [
    "import numpy as np\n",
    "from sklearn.cluster import DBSCAN\n",
    "import open3d as o3d\n",
    "\n",
    "# Load the point cloud\n",
    "pcd = o3d.io.read_point_cloud(\"../data/cube4.ply\")\n",
    "pcd.estimate_normals(search_param=o3d.geometry.KDTreeSearchParamHybrid(radius=0.1, max_nn=30))\n",
    "\n",
    "# Use RANSAC to segment the planes\n",
    "planes = []\n",
    "while len(pcd.points) >= 3: # Need at least 3 points to fit a plane\n",
    "    plane_model, inliers = pcd.segment_plane(distance_threshold=0.01, ransac_n=3, num_iterations=1000)\n",
    "    inlier_cloud = pcd.select_by_index(inliers)\n",
    "    inlier_cloud.paint_uniform_color([random.random(), random.random(), random.random()])\n",
    "    pcd = pcd.select_by_index(inliers, invert=True)\n",
    "    planes.append(inlier_cloud)\n",
    "\n",
    "# Add the remaining points to the list of planes\n",
    "if len(pcd.points) > 0:\n",
    "    planes.append(pcd)\n",
    "\n",
    "# Convert the planes to numpy arrays\n",
    "plane_points = np.concatenate([np.asarray(plane.points) for plane in planes], axis=0)\n",
    "\n",
    "# Perform PCA to reduce dimensionality\n",
    "pca = PCA(n_components=3)\n",
    "pca.fit(plane_points)\n",
    "pca_points = pca.transform(plane_points)\n",
    "\n",
    "# Cluster the planes using DBSCAN\n",
    "dbscan = DBSCAN(eps=0.000000009, min_samples=3)\n",
    "labels = dbscan.fit_predict(pca_points)\n",
    "\n",
    "print(labels)\n",
    "\n",
    "# Color the planes based on cluster label\n",
    "colors = [[1, 0, 0], [0, 1, 0], [0, 0, 1], [1, 1, 0], [1, 0, 1], [0, 1, 1], [0.5, 0, 0], [0, 0.5, 0], [0, 0, 0.5]]\n",
    "for i, plane in enumerate(planes):\n",
    "    color = colors[labels[i] % len(colors)]\n",
    "    plane.paint_uniform_color(color)\n",
    "\n",
    "unique_labels = np.unique(labels)\n",
    "\n",
    "print(len(unique_labels))\n",
    "\n",
    "# Visualize the clustered planes\n",
    "o3d.visualization.draw_geometries(planes)\n"
   ]
  },
  {
   "attachments": {},
   "cell_type": "markdown",
   "metadata": {},
   "source": [
    "Implementation based on: <link>https://towardsdatascience.com/how-to-automate-3d-point-cloud-segmentation-and-clustering-with-python-343c9039e4f5</link>"
   ]
  },
  {
   "attachments": {},
   "cell_type": "markdown",
   "metadata": {},
   "source": [
    "#### Segmentation"
   ]
  },
  {
   "cell_type": "code",
   "execution_count": 48,
   "metadata": {},
   "outputs": [
    {
     "name": "stdout",
     "output_type": "stream",
     "text": [
      "[Open3D WARNING] GLFW Error: WGL: Failed to make context current: The handle is invalid. \n"
     ]
    }
   ],
   "source": [
    "pcd = o3d.io.read_point_cloud(\"../data/TLS_kitchen.ply\")\n",
    "# pcd.estimate_normals(search_param=o3d.geometry.KDTreeSearchParamHybrid(radius=0.1, max_nn=16), fast_normal_computation=True)\n",
    "\n",
    "for i in range(7):\n",
    "    plane_model, inliers = pcd.segment_plane(distance_threshold=0.01, ransac_n=3, num_iterations=1000)\n",
    "\n",
    "    inlier_cloud = pcd.select_by_index(inliers)\n",
    "    outlier_cloud = pcd.select_by_index(inliers, invert=True)\n",
    "\n",
    "    inlier_cloud.paint_uniform_color([1, 0, 0])\n",
    "    outlier_cloud.paint_uniform_color([0.6, 0.6, 0.6])\n",
    "\n",
    "    pcd.points = outlier_cloud.points\n",
    "\n",
    "o3d.visualization.draw_geometries([pcd])\n",
    "    "
   ]
  },
  {
   "attachments": {},
   "cell_type": "markdown",
   "metadata": {},
   "source": [
    "#### Clustering"
   ]
  },
  {
   "cell_type": "code",
   "execution_count": 49,
   "metadata": {},
   "outputs": [
    {
     "name": "stdout",
     "output_type": "stream",
     "text": [
      "point cloud has 29 clusters\n",
      "[Open3D WARNING] GLFW Error: WGL: Failed to make context current: The handle is invalid. \n"
     ]
    }
   ],
   "source": [
    "labels = np.array(pcd.cluster_dbscan(eps=0.05, min_points=10))\n",
    "max_label = labels.max()\n",
    "print(f\"point cloud has {max_label + 1} clusters\")\n",
    "\n",
    "colors = plt.get_cmap(\"tab20\")(labels / (max_label if max_label > 0 else 1))\n",
    "colors[labels < 0] = 0\n",
    "pcd.colors = o3d.utility.Vector3dVector(colors[:, :3])\n",
    "\n",
    "o3d.visualization.draw_geometries([pcd])"
   ]
  },
  {
   "cell_type": "code",
   "execution_count": 52,
   "metadata": {},
   "outputs": [
    {
     "name": "stdout",
     "output_type": "stream",
     "text": [
      "pass 0 / 10 done.\n",
      "pass 1 / 10 done.\n",
      "pass 2 / 10 done.\n",
      "pass 3 / 10 done.\n",
      "pass 4 / 10 done.\n",
      "pass 5 / 10 done.\n",
      "pass 6 / 10 done.\n",
      "pass 7 / 10 done.\n",
      "pass 8 / 10 done.\n",
      "pass 9 / 10 done.\n"
     ]
    }
   ],
   "source": [
    "pcd = o3d.io.read_point_cloud(\"../data/TLS_kitchen.ply\")\n",
    "pcd.estimate_normals(search_param=o3d.geometry.KDTreeSearchParamHybrid(radius=0.1, max_nn=16), fast_normal_computation=True)\n",
    "\n",
    "segment_models={}\n",
    "segments={}\n",
    "max_plane_idx=10\n",
    "rest=pcd\n",
    "for i in range(max_plane_idx):\n",
    "    colors = plt.get_cmap(\"tab20\")(i)\n",
    "    segment_models[i], inliers = rest.segment_plane(distance_threshold=0.01,ransac_n=3,num_iterations=1000)\n",
    "    segments[i]=rest.select_by_index(inliers)\n",
    "    segments[i].paint_uniform_color(list(colors[:3]))\n",
    "    rest = rest.select_by_index(inliers, invert=True)\n",
    "    print(\"pass\",i,\"/\",max_plane_idx,\"done.\")\n",
    "\n",
    "o3d.visualization.draw_geometries([segments[i] for i in range(max_plane_idx)]+[rest])"
   ]
  },
  {
   "cell_type": "code",
   "execution_count": 59,
   "metadata": {},
   "outputs": [
    {
     "name": "stdout",
     "output_type": "stream",
     "text": [
      "the best candidate is:  -1\n",
      "pass 1 / 20 done.\n",
      "the best candidate is:  -1\n",
      "pass 2 / 20 done.\n",
      "the best candidate is:  -1\n",
      "pass 3 / 20 done.\n",
      "the best candidate is:  -1\n",
      "pass 4 / 20 done.\n"
     ]
    }
   ],
   "source": [
    "pcd = o3d.io.read_point_cloud(\"../data/cube1.ply\")\n",
    "\n",
    "# Define the parameters for the RANSAC plane segmentation\n",
    "segment_models={}\n",
    "segments={}\n",
    "max_plane_idx=20\n",
    "rest=pcd\n",
    "d_threshold=0.01\n",
    "\n",
    "# Perform the RANSAC plane segmentation\n",
    "for i in range(max_plane_idx):\n",
    "    # Get the color for the current plane\n",
    "    colors = plt.get_cmap(\"tab20\")(i)\n",
    "\n",
    "    # Segment the plane\n",
    "    segment_models[i], inliers = rest.segment_plane(distance_threshold=0.01,ransac_n=3,num_iterations=1000)\n",
    "    segments[i]=rest.select_by_index(inliers)\n",
    "\n",
    "    # Perform DBSCAN clustering on the plane\n",
    "    labels = np.array(segments[i].cluster_dbscan(eps=d_threshold*10, min_points=10))\n",
    "    candidates=[len(np.where(labels==j)[0]) for j in np.unique(labels)]\n",
    "    best_candidate=int(np.unique(labels)[np.where(candidates==np.max(candidates))[0]])\n",
    "    print(\"the best candidate is: \", best_candidate)\n",
    "    rest = rest.select_by_index(inliers, invert=True)+segments[i].select_by_index(list(np.where(labels!=best_candidate)[0]))\n",
    "    segments[i]=segments[i].select_by_index(list(np.where(labels==best_candidate)[0]))\n",
    "    segments[i].paint_uniform_color(list(colors[:3]))\n",
    "    print(\"pass\",i+1,\"/\",max_plane_idx,\"done.\")\n",
    "\n",
    "    if len(segments[i].points)<100:\n",
    "        break"
   ]
  },
  {
   "cell_type": "code",
   "execution_count": 60,
   "metadata": {},
   "outputs": [
    {
     "ename": "KeyError",
     "evalue": "4",
     "output_type": "error",
     "traceback": [
      "\u001b[1;31m---------------------------------------------------------------------------\u001b[0m",
      "\u001b[1;31mKeyError\u001b[0m                                  Traceback (most recent call last)",
      "\u001b[1;32m~\\AppData\\Local\\Temp\\ipykernel_10820\\1037507072.py\u001b[0m in \u001b[0;36m<module>\u001b[1;34m\u001b[0m\n\u001b[1;32m----> 1\u001b[1;33m \u001b[0mo3d\u001b[0m\u001b[1;33m.\u001b[0m\u001b[0mvisualization\u001b[0m\u001b[1;33m.\u001b[0m\u001b[0mdraw_geometries\u001b[0m\u001b[1;33m(\u001b[0m\u001b[1;33m[\u001b[0m\u001b[0msegments\u001b[0m\u001b[1;33m[\u001b[0m\u001b[0mi\u001b[0m\u001b[1;33m]\u001b[0m \u001b[1;32mfor\u001b[0m \u001b[0mi\u001b[0m \u001b[1;32min\u001b[0m \u001b[0mrange\u001b[0m\u001b[1;33m(\u001b[0m\u001b[0mmax_plane_idx\u001b[0m\u001b[1;33m)\u001b[0m\u001b[1;33m]\u001b[0m\u001b[1;33m+\u001b[0m\u001b[1;33m[\u001b[0m\u001b[0mrest\u001b[0m\u001b[1;33m]\u001b[0m\u001b[1;33m)\u001b[0m\u001b[1;33m\u001b[0m\u001b[1;33m\u001b[0m\u001b[0m\n\u001b[0m",
      "\u001b[1;32m~\\AppData\\Local\\Temp\\ipykernel_10820\\1037507072.py\u001b[0m in \u001b[0;36m<listcomp>\u001b[1;34m(.0)\u001b[0m\n\u001b[1;32m----> 1\u001b[1;33m \u001b[0mo3d\u001b[0m\u001b[1;33m.\u001b[0m\u001b[0mvisualization\u001b[0m\u001b[1;33m.\u001b[0m\u001b[0mdraw_geometries\u001b[0m\u001b[1;33m(\u001b[0m\u001b[1;33m[\u001b[0m\u001b[0msegments\u001b[0m\u001b[1;33m[\u001b[0m\u001b[0mi\u001b[0m\u001b[1;33m]\u001b[0m \u001b[1;32mfor\u001b[0m \u001b[0mi\u001b[0m \u001b[1;32min\u001b[0m \u001b[0mrange\u001b[0m\u001b[1;33m(\u001b[0m\u001b[0mmax_plane_idx\u001b[0m\u001b[1;33m)\u001b[0m\u001b[1;33m]\u001b[0m\u001b[1;33m+\u001b[0m\u001b[1;33m[\u001b[0m\u001b[0mrest\u001b[0m\u001b[1;33m]\u001b[0m\u001b[1;33m)\u001b[0m\u001b[1;33m\u001b[0m\u001b[1;33m\u001b[0m\u001b[0m\n\u001b[0m",
      "\u001b[1;31mKeyError\u001b[0m: 4"
     ]
    }
   ],
   "source": [
    "o3d.visualization.draw_geometries([segments[i] for i in range(max_plane_idx)]+[rest])"
   ]
  },
  {
   "cell_type": "code",
   "execution_count": 55,
   "metadata": {},
   "outputs": [
    {
     "name": "stdout",
     "output_type": "stream",
     "text": [
      "point cloud has 105 clusters\n"
     ]
    }
   ],
   "source": [
    "labels = np.array(rest.cluster_dbscan(eps=0.05, min_points=5))\n",
    "max_label = labels.max()\n",
    "print(f\"point cloud has {max_label + 1} clusters\")\n",
    "\n",
    "colors = plt.get_cmap(\"tab10\")(labels / (max_label if max_label > 0 else 1))\n",
    "colors[labels < 0] = 0\n",
    "rest.colors = o3d.utility.Vector3dVector(colors[:, :3])"
   ]
  },
  {
   "cell_type": "code",
   "execution_count": 57,
   "metadata": {},
   "outputs": [],
   "source": [
    "o3d.visualization.draw_geometries([rest])"
   ]
  }
 ],
 "metadata": {
  "kernelspec": {
   "display_name": "Python 3",
   "language": "python",
   "name": "python3"
  },
  "language_info": {
   "codemirror_mode": {
    "name": "ipython",
    "version": 3
   },
   "file_extension": ".py",
   "mimetype": "text/x-python",
   "name": "python",
   "nbconvert_exporter": "python",
   "pygments_lexer": "ipython3",
   "version": "3.7.16"
  },
  "orig_nbformat": 4,
  "vscode": {
   "interpreter": {
    "hash": "945639594f59e4d2ae44c196a1b57b38d7c0329e33c78aaa6c6096759a7fe484"
   }
  }
 },
 "nbformat": 4,
 "nbformat_minor": 2
}
