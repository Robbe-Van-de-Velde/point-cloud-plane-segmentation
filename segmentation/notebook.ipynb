{
 "cells": [
  {
   "attachments": {},
   "cell_type": "markdown",
   "metadata": {},
   "source": [
    "# Point cloud segmentation"
   ]
  },
  {
   "attachments": {},
   "cell_type": "markdown",
   "metadata": {},
   "source": [
    "## Imports"
   ]
  },
  {
   "cell_type": "code",
   "execution_count": 2,
   "metadata": {},
   "outputs": [],
   "source": [
    "import open3d as o3d\n",
    "import sys\n",
    "import numpy as np\n",
    "from sklearn.linear_model import RANSACRegressor\n",
    "import random"
   ]
  },
  {
   "attachments": {},
   "cell_type": "markdown",
   "metadata": {},
   "source": [
    "## Loading in the data"
   ]
  },
  {
   "cell_type": "code",
   "execution_count": 3,
   "metadata": {},
   "outputs": [],
   "source": [
    "# Load in point cloud\n",
    "pcd = o3d.io.read_point_cloud(\"../data/cube1.ply\")\n",
    "pcd.paint_uniform_color([0.9, 0.9, 0.9])\n",
    "points = np.asarray(pcd.points)"
   ]
  },
  {
   "attachments": {},
   "cell_type": "markdown",
   "metadata": {},
   "source": [
    "## RANSAC\n",
    "### SciKit Learn"
   ]
  },
  {
   "cell_type": "code",
   "execution_count": 4,
   "metadata": {},
   "outputs": [],
   "source": [
    "# Fit a plane to the point cloud\n",
    "ransac = RANSACRegressor(min_samples=3, residual_threshold=0.01, max_trials=1000)\n",
    "ransac.fit(points[:, :2], points[:, 2])\n",
    "\n",
    "# Get the inlier points\n",
    "inlier_mask = ransac.inlier_mask_\n",
    "inlier_points = points[inlier_mask, :]\n",
    "\n",
    "# Get the outlier points\n",
    "outlier_mask = np.logical_not(ransac.inlier_mask_)\n",
    "outlier_points = points[outlier_mask, :]\n",
    "\n",
    "# Get the plane parameters\n",
    "plane = ransac.estimator_.coef_\n",
    "plane = np.append(plane, ransac.estimator_.intercept_)"
   ]
  },
  {
   "cell_type": "code",
   "execution_count": 5,
   "metadata": {},
   "outputs": [],
   "source": [
    "# Create a new point cloud with only the inlier points\n",
    "inlier_pcd = o3d.geometry.PointCloud()\n",
    "inlier_pcd.points = o3d.utility.Vector3dVector(inlier_points)\n",
    "inlier_pcd.paint_uniform_color([0.9, 0, 0])\n",
    "\n",
    "# Create a new point cloud with only the outlier points\n",
    "outlier_pcd = o3d.geometry.PointCloud()\n",
    "outlier_pcd.points = o3d.utility.Vector3dVector(outlier_points)\n",
    "outlier_pcd.paint_uniform_color([0, 0.9, 0])\n",
    "\n",
    "# Visualize the point cloud\n",
    "o3d.visualization.draw_geometries([outlier_pcd, inlier_pcd])"
   ]
  },
  {
   "attachments": {},
   "cell_type": "markdown",
   "metadata": {},
   "source": [
    "### Open3D"
   ]
  },
  {
   "cell_type": "code",
   "execution_count": 6,
   "metadata": {},
   "outputs": [],
   "source": [
    "# Use RANSAC to segment the plane\n",
    "plane_model, inliers = pcd.segment_plane(distance_threshold=0.01, ransac_n=3, num_iterations=1000)\n",
    "\n",
    "# Extract the inlier points\n",
    "inlier_cloud = pcd.select_by_index(inliers)\n",
    "inlier_cloud.paint_uniform_color([1.0, 0, 0])\n",
    "\n",
    "# Extract the outlier points\n",
    "outlier_cloud = pcd.select_by_index(inliers, invert=True)\n",
    "outlier_cloud.paint_uniform_color([0, 0, 1])\n",
    "\n",
    "# Visualize the point cloud\n",
    "o3d.visualization.draw_geometries([outlier_cloud, inlier_cloud])"
   ]
  },
  {
   "attachments": {},
   "cell_type": "markdown",
   "metadata": {},
   "source": [
    "We can see that the open3D implementation, instantly detects a plane whereas this is not the case with sci-kit learn. However tweaking the parameters of the sci-kit learn implementation can lead to a similar result. Using the sci-kit learn package may lead to better results in the future as it is more flexible and can be used for other algorithms."
   ]
  },
  {
   "attachments": {},
   "cell_type": "markdown",
   "metadata": {},
   "source": [
    "## Finding all planes\n",
    "\n",
    "Now we are going to loop the algorithm over the entire point cloud and find all planes. We will try both the sci-kit learn and open3D implementations."
   ]
  },
  {
   "attachments": {},
   "cell_type": "markdown",
   "metadata": {},
   "source": [
    "### SciKit Learn"
   ]
  },
  {
   "cell_type": "code",
   "execution_count": 7,
   "metadata": {},
   "outputs": [],
   "source": [
    "# Load in point cloud\n",
    "pcd = o3d.io.read_point_cloud(\"../data/cube1.ply\")\n",
    "pcd.estimate_normals()\n",
    "\n",
    "planes = []\n",
    "\n",
    "# Fit a plane to the point cloud\n",
    "ransac = RANSACRegressor(min_samples=3, residual_threshold=0.01, max_trials=1000)\n",
    "ransac.fit(points[:, :2], points[:, 2])\n",
    "\n",
    "# Get the inlier points\n",
    "inlier_mask = ransac.inlier_mask_\n",
    "inlier_points = points[inlier_mask, :]\n",
    "\n",
    "# Get the outlier points\n",
    "outlier_mask = np.logical_not(ransac.inlier_mask_)\n",
    "outlier_points = points[outlier_mask, :]\n",
    "\n",
    "# Create a new point cloud with only the inlier points\n",
    "inlier_pcd = o3d.geometry.PointCloud()\n",
    "inlier_pcd.points = o3d.utility.Vector3dVector(inlier_points)\n",
    "inlier_pcd.paint_uniform_color([0.9, 0, 0])\n",
    "\n",
    "# Add the plane to the list of planes\n",
    "planes.append(inlier_pcd)\n",
    "\n",
    "# Repeat until there are no more points\n",
    "# while len(outlier_points) > 0:\n",
    "# Fit a plane to the point cloud\n",
    "ransac = RANSACRegressor(min_samples=3, residual_threshold=0.01, max_trials=1000)\n",
    "ransac.fit(outlier_points[:, :2], outlier_points[:, 2])\n",
    "\n",
    "# Get the inlier points\n",
    "inlier_mask = ransac.inlier_mask_\n",
    "inlier_points = outlier_points[inlier_mask, :]\n",
    "\n",
    "# Get the outlier points\n",
    "outlier_mask = np.logical_not(ransac.inlier_mask_)\n",
    "outlier_points = outlier_points[outlier_mask, :]\n",
    "\n",
    "# Create a new point cloud with only the inlier points\n",
    "inlier_pcd = o3d.geometry.PointCloud()\n",
    "inlier_pcd.points = o3d.utility.Vector3dVector(inlier_points)\n",
    "inlier_pcd.paint_uniform_color([0, 0.9, 0])\n",
    "\n",
    "# Add the plane to the list of planes\n",
    "planes.append(inlier_pcd)\n",
    "\n",
    "ransac = RANSACRegressor(min_samples=3, residual_threshold=0.025, max_trials=1000)\n",
    "ransac.fit(outlier_points[:, :2], outlier_points[:, 2])\n",
    "\n",
    "# Get the inlier points\n",
    "inlier_mask = ransac.inlier_mask_\n",
    "inlier_points = outlier_points[inlier_mask, :]\n",
    "\n",
    "# Get the outlier points\n",
    "outlier_mask = np.logical_not(ransac.inlier_mask_)\n",
    "outlier_points = outlier_points[outlier_mask, :]\n",
    "\n",
    "# Create a new point cloud with only the inlier points\n",
    "inlier_pcd = o3d.geometry.PointCloud()\n",
    "inlier_pcd.points = o3d.utility.Vector3dVector(inlier_points)\n",
    "inlier_pcd.paint_uniform_color([0, 0, 0.9])\n",
    "\n",
    "# Add the plane to the list of planes\n",
    "planes.append(inlier_pcd)\n",
    "\n",
    "# Visualize the point cloud\n",
    "o3d.visualization.draw_geometries(planes)"
   ]
  },
  {
   "attachments": {},
   "cell_type": "markdown",
   "metadata": {},
   "source": [
    "### Open3D\n",
    "\n"
   ]
  },
  {
   "cell_type": "code",
   "execution_count": 8,
   "metadata": {},
   "outputs": [
    {
     "name": "stdout",
     "output_type": "stream",
     "text": [
      "6\n"
     ]
    }
   ],
   "source": [
    "# Load in point cloud\n",
    "pcd = o3d.io.read_point_cloud(\"../data/cube1.ply\")\n",
    "planes = []\n",
    "\n",
    "while len(pcd.points) > 0:\n",
    "    # Use RANSAC to segment the plane\n",
    "    plane_model, inliers = pcd.segment_plane(distance_threshold=0.01, ransac_n=3, num_iterations=1000)\n",
    "\n",
    "    # Extract the inlier points\n",
    "    inlier_cloud = pcd.select_by_index(inliers)\n",
    "    inlier_cloud.paint_uniform_color([random.random(), random.random(), random.random()])\n",
    "\n",
    "    # Extract the outlier points\n",
    "    pcd = pcd.select_by_index(inliers, invert=True)\n",
    "\n",
    "    # Add the plane to the list of planes\n",
    "    planes.append(inlier_cloud)\n",
    "\n",
    "print(len(planes))\n",
    "\n",
    "# Visualize the point cloud\n",
    "o3d.visualization.draw_geometries(planes)\n"
   ]
  },
  {
   "attachments": {},
   "cell_type": "markdown",
   "metadata": {},
   "source": [
    "The open3D implementation is much easier to use, after tinkering with the parameters of the sci-kit learn implementation I was still unable to get the same results, therefore I will be using the open3D implementation for the rest of the notebook."
   ]
  },
  {
   "attachments": {},
   "cell_type": "markdown",
   "metadata": {},
   "source": [
    "Let's try to use the open3D implementation to find all planes other point clouds."
   ]
  },
  {
   "cell_type": "code",
   "execution_count": 9,
   "metadata": {},
   "outputs": [
    {
     "name": "stdout",
     "output_type": "stream",
     "text": [
      "6\n"
     ]
    }
   ],
   "source": [
    "# Load in point cloud\n",
    "pcd = o3d.io.read_point_cloud(\"../data/cube4.ply\")\n",
    "planes = []\n",
    "\n",
    "while len(pcd.points) > 0:\n",
    "    # Use RANSAC to segment the plane\n",
    "    plane_model, inliers = pcd.segment_plane(distance_threshold=0.01, ransac_n=3, num_iterations=1000)\n",
    "\n",
    "    # Extract the inlier points\n",
    "    inlier_cloud = pcd.select_by_index(inliers)\n",
    "    inlier_cloud.paint_uniform_color([random.random(), random.random(), random.random()])\n",
    "\n",
    "    # Extract the outlier points\n",
    "    pcd = pcd.select_by_index(inliers, invert=True)\n",
    "\n",
    "    # Add the plane to the list of planes\n",
    "    planes.append(inlier_cloud)\n",
    "\n",
    "print(len(planes))\n",
    "\n",
    "# Visualize the point cloud\n",
    "o3d.visualization.draw_geometries(planes)"
   ]
  },
  {
   "cell_type": "code",
   "execution_count": 10,
   "metadata": {},
   "outputs": [
    {
     "name": "stdout",
     "output_type": "stream",
     "text": [
      "5\n"
     ]
    }
   ],
   "source": [
    "# Load in point cloud\n",
    "pcd = o3d.io.read_point_cloud(\"../data/pyramid1.ply\")\n",
    "planes = []\n",
    "\n",
    "while len(pcd.points) > 0:\n",
    "    # Use RANSAC to segment the plane\n",
    "    plane_model, inliers = pcd.segment_plane(distance_threshold=0.01, ransac_n=3, num_iterations=1000)\n",
    "\n",
    "    # Extract the inlier points\n",
    "    inlier_cloud = pcd.select_by_index(inliers)\n",
    "    inlier_cloud.paint_uniform_color([random.random(), random.random(), random.random()])\n",
    "\n",
    "    # Extract the outlier points\n",
    "    pcd = pcd.select_by_index(inliers, invert=True)\n",
    "\n",
    "    # Add the plane to the list of planes\n",
    "    planes.append(inlier_cloud)\n",
    "\n",
    "print(len(planes))\n",
    "\n",
    "# Visualize the point cloud\n",
    "o3d.visualization.draw_geometries(planes)\n"
   ]
  },
  {
   "cell_type": "code",
   "execution_count": 22,
   "metadata": {},
   "outputs": [
    {
     "name": "stdout",
     "output_type": "stream",
     "text": [
      "std::vector<Eigen::Vector3d> with 6000 elements.\n",
      "Use numpy.asarray() to access data.\n",
      "21\n"
     ]
    }
   ],
   "source": [
    "# Load in point cloud\n",
    "pcd = o3d.io.read_point_cloud(\"../data/noisy_cube2.ply\")\n",
    "planes = []\n",
    "\n",
    "print(pcd.points)\n",
    "\n",
    "# Preprocess the point cloud\n",
    "pcd.voxel_down_sample(voxel_size=0.01)\n",
    "pcd.remove_statistical_outlier(nb_neighbors=20, std_ratio=2.0)\n",
    "pcd.remove_radius_outlier(nb_points=16, radius=0.05)\n",
    "\n",
    "\n",
    "while len(pcd.points) >= 3:\n",
    "    # Use RANSAC to segment the plane\n",
    "    plane_model, inliers = pcd.segment_plane(distance_threshold=0.01, ransac_n=3, num_iterations=1000)\n",
    "\n",
    "    # Extract the inlier points\n",
    "    inlier_cloud = pcd.select_by_index(inliers)\n",
    "    inlier_cloud.paint_uniform_color([random.random(), random.random(), random.random()])\n",
    "\n",
    "    # Extract the outlier points\n",
    "    pcd = pcd.select_by_index(inliers, invert=True)\n",
    "\n",
    "    # Add the plane to the list of planes\n",
    "    planes.append(inlier_cloud)\n",
    "\n",
    "print(len(planes))\n",
    "\n",
    "# Visualize the point cloud\n",
    "o3d.visualization.draw_geometries(planes)\n"
   ]
  },
  {
   "attachments": {},
   "cell_type": "markdown",
   "metadata": {},
   "source": [
    "Even though there are a lot of planes that seem to be overlapping. All the selected planes do seem to be correct planes. Perhaps if we use a clustering algorithm to find the planes that are overlapping we can get a better result."
   ]
  }
 ],
 "metadata": {
  "kernelspec": {
   "display_name": "Python 3",
   "language": "python",
   "name": "python3"
  },
  "language_info": {
   "codemirror_mode": {
    "name": "ipython",
    "version": 3
   },
   "file_extension": ".py",
   "mimetype": "text/x-python",
   "name": "python",
   "nbconvert_exporter": "python",
   "pygments_lexer": "ipython3",
   "version": "3.7.16"
  },
  "orig_nbformat": 4,
  "vscode": {
   "interpreter": {
    "hash": "945639594f59e4d2ae44c196a1b57b38d7c0329e33c78aaa6c6096759a7fe484"
   }
  }
 },
 "nbformat": 4,
 "nbformat_minor": 2
}
